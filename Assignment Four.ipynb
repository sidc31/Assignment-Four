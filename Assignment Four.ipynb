{
 "cells": [
  {
   "cell_type": "markdown",
   "metadata": {},
   "source": [
    "# In Class Assignment 2-22-2022\n",
    "\n",
    "#### Sidney Cox"
   ]
  },
  {
   "cell_type": "markdown",
   "metadata": {},
   "source": [
    "### Download the data using Panda's DataReader function"
   ]
  },
  {
   "cell_type": "code",
   "execution_count": 1,
   "metadata": {},
   "outputs": [],
   "source": [
    "from pandas_datareader import data, wb\n",
    "import pandas as pd\n",
    "import numpy as np\n",
    "import datetime\n",
    "import matplotlib.pyplot as plt\n",
    "%matplotlib inline"
   ]
  },
  {
   "cell_type": "markdown",
   "metadata": {},
   "source": [
    "### Create one dataset per company and collect the data for the year 2021."
   ]
  },
  {
   "cell_type": "code",
   "execution_count": 3,
   "metadata": {},
   "outputs": [],
   "source": [
    "start = datetime.datetime(2021,1,1)\n",
    "end = datetime.datetime(2021,12,31)"
   ]
  },
  {
   "cell_type": "code",
   "execution_count": 4,
   "metadata": {},
   "outputs": [],
   "source": [
    "target = data.DataReader(\"TGT\", 'yahoo',start, end)\n",
    "walmart = data.DataReader(\"WMT\",'yahoo',start,end)"
   ]
  },
  {
   "cell_type": "code",
   "execution_count": 5,
   "metadata": {},
   "outputs": [
    {
     "data": {
      "text/html": [
       "<div>\n",
       "<style scoped>\n",
       "    .dataframe tbody tr th:only-of-type {\n",
       "        vertical-align: middle;\n",
       "    }\n",
       "\n",
       "    .dataframe tbody tr th {\n",
       "        vertical-align: top;\n",
       "    }\n",
       "\n",
       "    .dataframe thead th {\n",
       "        text-align: right;\n",
       "    }\n",
       "</style>\n",
       "<table border=\"1\" class=\"dataframe\">\n",
       "  <thead>\n",
       "    <tr style=\"text-align: right;\">\n",
       "      <th></th>\n",
       "      <th>High</th>\n",
       "      <th>Low</th>\n",
       "      <th>Open</th>\n",
       "      <th>Close</th>\n",
       "      <th>Volume</th>\n",
       "      <th>Adj Close</th>\n",
       "    </tr>\n",
       "    <tr>\n",
       "      <th>Date</th>\n",
       "      <th></th>\n",
       "      <th></th>\n",
       "      <th></th>\n",
       "      <th></th>\n",
       "      <th></th>\n",
       "      <th></th>\n",
       "    </tr>\n",
       "  </thead>\n",
       "  <tbody>\n",
       "    <tr>\n",
       "      <th>2021-01-04</th>\n",
       "      <td>178.089996</td>\n",
       "      <td>174.119995</td>\n",
       "      <td>176.509995</td>\n",
       "      <td>177.630005</td>\n",
       "      <td>3463100.0</td>\n",
       "      <td>174.467789</td>\n",
       "    </tr>\n",
       "    <tr>\n",
       "      <th>2021-01-05</th>\n",
       "      <td>181.970001</td>\n",
       "      <td>176.429993</td>\n",
       "      <td>176.800003</td>\n",
       "      <td>180.369995</td>\n",
       "      <td>4843300.0</td>\n",
       "      <td>177.158997</td>\n",
       "    </tr>\n",
       "    <tr>\n",
       "      <th>2021-01-06</th>\n",
       "      <td>189.470001</td>\n",
       "      <td>180.110001</td>\n",
       "      <td>180.330002</td>\n",
       "      <td>188.919998</td>\n",
       "      <td>5610100.0</td>\n",
       "      <td>185.556793</td>\n",
       "    </tr>\n",
       "    <tr>\n",
       "      <th>2021-01-07</th>\n",
       "      <td>192.350006</td>\n",
       "      <td>189.169998</td>\n",
       "      <td>189.210007</td>\n",
       "      <td>191.100006</td>\n",
       "      <td>4226700.0</td>\n",
       "      <td>187.697998</td>\n",
       "    </tr>\n",
       "    <tr>\n",
       "      <th>2021-01-08</th>\n",
       "      <td>193.880005</td>\n",
       "      <td>190.809998</td>\n",
       "      <td>191.580002</td>\n",
       "      <td>193.600006</td>\n",
       "      <td>3321500.0</td>\n",
       "      <td>190.153503</td>\n",
       "    </tr>\n",
       "  </tbody>\n",
       "</table>\n",
       "</div>"
      ],
      "text/plain": [
       "                  High         Low        Open       Close     Volume  \\\n",
       "Date                                                                    \n",
       "2021-01-04  178.089996  174.119995  176.509995  177.630005  3463100.0   \n",
       "2021-01-05  181.970001  176.429993  176.800003  180.369995  4843300.0   \n",
       "2021-01-06  189.470001  180.110001  180.330002  188.919998  5610100.0   \n",
       "2021-01-07  192.350006  189.169998  189.210007  191.100006  4226700.0   \n",
       "2021-01-08  193.880005  190.809998  191.580002  193.600006  3321500.0   \n",
       "\n",
       "             Adj Close  \n",
       "Date                    \n",
       "2021-01-04  174.467789  \n",
       "2021-01-05  177.158997  \n",
       "2021-01-06  185.556793  \n",
       "2021-01-07  187.697998  \n",
       "2021-01-08  190.153503  "
      ]
     },
     "execution_count": 5,
     "metadata": {},
     "output_type": "execute_result"
    }
   ],
   "source": [
    "target.head()"
   ]
  },
  {
   "cell_type": "markdown",
   "metadata": {},
   "source": [
    "### Create the columns %-chg and Log returns for both companies."
   ]
  },
  {
   "cell_type": "code",
   "execution_count": 21,
   "metadata": {},
   "outputs": [],
   "source": [
    "target['%-chg'] = target['Close'].pct_change()\n",
    "walmart['%-chg'] = walmart['Close'].pct_change()\n",
    "\n",
    "target['Log returns'] = np.log(target['Close']/target['Close'].shift())\n",
    "walmart['Log returns'] = np.log(walmart['Close']/walmart['Close'].shift())"
   ]
  },
  {
   "cell_type": "code",
   "execution_count": 22,
   "metadata": {},
   "outputs": [
    {
     "data": {
      "text/html": [
       "<div>\n",
       "<style scoped>\n",
       "    .dataframe tbody tr th:only-of-type {\n",
       "        vertical-align: middle;\n",
       "    }\n",
       "\n",
       "    .dataframe tbody tr th {\n",
       "        vertical-align: top;\n",
       "    }\n",
       "\n",
       "    .dataframe thead th {\n",
       "        text-align: right;\n",
       "    }\n",
       "</style>\n",
       "<table border=\"1\" class=\"dataframe\">\n",
       "  <thead>\n",
       "    <tr style=\"text-align: right;\">\n",
       "      <th></th>\n",
       "      <th>High</th>\n",
       "      <th>Low</th>\n",
       "      <th>Open</th>\n",
       "      <th>Close</th>\n",
       "      <th>Volume</th>\n",
       "      <th>Adj Close</th>\n",
       "      <th>%-chg</th>\n",
       "      <th>Log returns</th>\n",
       "    </tr>\n",
       "    <tr>\n",
       "      <th>Date</th>\n",
       "      <th></th>\n",
       "      <th></th>\n",
       "      <th></th>\n",
       "      <th></th>\n",
       "      <th></th>\n",
       "      <th></th>\n",
       "      <th></th>\n",
       "      <th></th>\n",
       "    </tr>\n",
       "  </thead>\n",
       "  <tbody>\n",
       "    <tr>\n",
       "      <th>2021-01-04</th>\n",
       "      <td>178.089996</td>\n",
       "      <td>174.119995</td>\n",
       "      <td>176.509995</td>\n",
       "      <td>177.630005</td>\n",
       "      <td>3463100.0</td>\n",
       "      <td>174.467789</td>\n",
       "      <td>NaN</td>\n",
       "      <td>NaN</td>\n",
       "    </tr>\n",
       "    <tr>\n",
       "      <th>2021-01-05</th>\n",
       "      <td>181.970001</td>\n",
       "      <td>176.429993</td>\n",
       "      <td>176.800003</td>\n",
       "      <td>180.369995</td>\n",
       "      <td>4843300.0</td>\n",
       "      <td>177.158997</td>\n",
       "      <td>0.015425</td>\n",
       "      <td>0.015308</td>\n",
       "    </tr>\n",
       "    <tr>\n",
       "      <th>2021-01-06</th>\n",
       "      <td>189.470001</td>\n",
       "      <td>180.110001</td>\n",
       "      <td>180.330002</td>\n",
       "      <td>188.919998</td>\n",
       "      <td>5610100.0</td>\n",
       "      <td>185.556793</td>\n",
       "      <td>0.047403</td>\n",
       "      <td>0.046313</td>\n",
       "    </tr>\n",
       "    <tr>\n",
       "      <th>2021-01-07</th>\n",
       "      <td>192.350006</td>\n",
       "      <td>189.169998</td>\n",
       "      <td>189.210007</td>\n",
       "      <td>191.100006</td>\n",
       "      <td>4226700.0</td>\n",
       "      <td>187.697998</td>\n",
       "      <td>0.011539</td>\n",
       "      <td>0.011473</td>\n",
       "    </tr>\n",
       "    <tr>\n",
       "      <th>2021-01-08</th>\n",
       "      <td>193.880005</td>\n",
       "      <td>190.809998</td>\n",
       "      <td>191.580002</td>\n",
       "      <td>193.600006</td>\n",
       "      <td>3321500.0</td>\n",
       "      <td>190.153503</td>\n",
       "      <td>0.013082</td>\n",
       "      <td>0.012997</td>\n",
       "    </tr>\n",
       "  </tbody>\n",
       "</table>\n",
       "</div>"
      ],
      "text/plain": [
       "                  High         Low        Open       Close     Volume  \\\n",
       "Date                                                                    \n",
       "2021-01-04  178.089996  174.119995  176.509995  177.630005  3463100.0   \n",
       "2021-01-05  181.970001  176.429993  176.800003  180.369995  4843300.0   \n",
       "2021-01-06  189.470001  180.110001  180.330002  188.919998  5610100.0   \n",
       "2021-01-07  192.350006  189.169998  189.210007  191.100006  4226700.0   \n",
       "2021-01-08  193.880005  190.809998  191.580002  193.600006  3321500.0   \n",
       "\n",
       "             Adj Close     %-chg  Log returns  \n",
       "Date                                           \n",
       "2021-01-04  174.467789       NaN          NaN  \n",
       "2021-01-05  177.158997  0.015425     0.015308  \n",
       "2021-01-06  185.556793  0.047403     0.046313  \n",
       "2021-01-07  187.697998  0.011539     0.011473  \n",
       "2021-01-08  190.153503  0.013082     0.012997  "
      ]
     },
     "execution_count": 22,
     "metadata": {},
     "output_type": "execute_result"
    }
   ],
   "source": [
    "target.head()"
   ]
  },
  {
   "cell_type": "markdown",
   "metadata": {},
   "source": [
    "### Create a combined plot of the volumes for both companies. Comment on the results."
   ]
  },
  {
   "cell_type": "code",
   "execution_count": 9,
   "metadata": {},
   "outputs": [
    {
     "data": {
      "image/png": "[encoded data removed]",
      "text/plain": [
       "<Figure size 864x432 with 2 Axes>"
      ]
     },
     "metadata": {
      "needs_background": "light"
     },
     "output_type": "display_data"
    }
   ],
   "source": [
    "fig, ax = plt.subplots(2)\n",
    "target['Volume'].loc['2021-01-01':].plot(ax=ax[0], title=\"Target Volume 2021\", figsize=(12,6))\n",
    "walmart['Volume'].loc['2021-01-01':].plot(ax=ax[1], title=\"Walmart Volume 2021\", figsize=(12,6))\n",
    "\n",
    "fig.tight_layout()"
   ]
  },
  {
   "cell_type": "markdown",
   "metadata": {},
   "source": [
    "For both Target and Walmart, they experience a very high volume in March of 2021. However, after March 2021, Target's volume was decreased and stayed low for the rest of the year. On the other hand, Walmart's volume decreased after March 2021, but increased as the year went on. While the volume never got be to what it was in March, it was still pretty high for Walmart. "
   ]
  },
  {
   "cell_type": "markdown",
   "metadata": {},
   "source": [
    "### Create a combined plot of the log returns on both companies and comment on the results."
   ]
  },
  {
   "cell_type": "code",
   "execution_count": 12,
   "metadata": {},
   "outputs": [
    {
     "data": {
      "image/png": "[encoded data removed]",
      "text/plain": [
       "<Figure size 864x288 with 2 Axes>"
      ]
     },
     "metadata": {
      "needs_background": "light"
     },
     "output_type": "display_data"
    }
   ],
   "source": [
    "fig, ax = plt.subplots(1,2)\n",
    "walmart['Log returns'].hist(ax=ax[0], bins=50, alpha=0.6, color='r', figsize=(12,4))\n",
    "ax[0].set_ylabel(\"Freq of log return\")\n",
    "ax[0].set_title(\"Walmart Returns \")\n",
    "\n",
    "target['Log returns'].hist(ax=ax[1], bins=50, alpha=0.6, color='r', figsize=(12,4))\n",
    "ax[1].set_ylabel(\"Freq of log return\")\n",
    "ax[1].set_title(\"Target Returns\")\n",
    "\n",
    "fig.tight_layout()"
   ]
  },
  {
   "cell_type": "markdown",
   "metadata": {},
   "source": [
    "Looking at the returns, they are kind of similar. Target has a more normalized structure while Walmart does not. However, Walmart has more losses than Target does as the graph is thicker on the negative side. "
   ]
  },
  {
   "cell_type": "markdown",
   "metadata": {},
   "source": [
    "### Calculate the volatility for both companies and comment on the results."
   ]
  },
  {
   "cell_type": "code",
   "execution_count": 15,
   "metadata": {},
   "outputs": [
    {
     "data": {
      "text/plain": [
       "0.014964775897820567"
      ]
     },
     "execution_count": 15,
     "metadata": {},
     "output_type": "execute_result"
    }
   ],
   "source": [
    "target['Log returns'].std()"
   ]
  },
  {
   "cell_type": "code",
   "execution_count": 16,
   "metadata": {},
   "outputs": [
    {
     "data": {
      "text/plain": [
       "0.010566097093939207"
      ]
     },
     "execution_count": 16,
     "metadata": {},
     "output_type": "execute_result"
    }
   ],
   "source": [
    "walmart['Log returns'].std()"
   ]
  },
  {
   "cell_type": "code",
   "execution_count": 19,
   "metadata": {},
   "outputs": [
    {
     "data": {
      "text/plain": [
       "0.2375584527086793"
      ]
     },
     "execution_count": 19,
     "metadata": {},
     "output_type": "execute_result"
    }
   ],
   "source": [
    "target_vol = target['Log returns'].std()*np.sqrt(252)\n",
    "walmart_vol = walmart['Log returns'].std()*np.sqrt(252)\n",
    "target_vol"
   ]
  },
  {
   "cell_type": "code",
   "execution_count": 20,
   "metadata": {},
   "outputs": [
    {
     "data": {
      "text/plain": [
       "0.16773159143475252"
      ]
     },
     "execution_count": 20,
     "metadata": {},
     "output_type": "execute_result"
    }
   ],
   "source": [
    "walmart_vol"
   ]
  },
  {
   "cell_type": "markdown",
   "metadata": {},
   "source": [
    "The volatility for target is higher than the volatility for walmart. This means that investing in target is riskier than investing in walmart. "
   ]
  }
 ],
 "metadata": {
  "kernelspec": {
   "display_name": "Python 3",
   "language": "python",
   "name": "python3"
  },
  "language_info": {
   "codemirror_mode": {
    "name": "ipython",
    "version": 3
   },
   "file_extension": ".py",
   "mimetype": "text/x-python",
   "name": "python",
   "nbconvert_exporter": "python",
   "pygments_lexer": "ipython3",
   "version": "3.7.0"
  }
 },
 "nbformat": 4,
 "nbformat_minor": 2
}
